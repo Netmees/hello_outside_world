{
 "cells": [
  {
   "cell_type": "code",
   "execution_count": 61,
   "metadata": {},
   "outputs": [],
   "source": [
    "import typing as T\n",
    "from transformers import AutoTokenizer, pipeline, AutoModelForSeq2SeqLM\n",
    "from ctransformers import AutoModelForCausalLM as CAutoModelForCausalLM\n",
    "from bs4 import BeautifulSoup\n",
    "import torch\n",
    "import markdown\n",
    "from newspaper import Article, fulltext\n",
    "import requests_cache as requests\n",
    "if T.TYPE_CHECKING:\n",
    "    import requests as t_req\n",
    "    from transformers import LLM\n",
    "from pathlib import Path\n",
    "import nltk\n",
    "import re\n",
    "\n",
    "SUMMARIZER_MODEL = \"Falconsai/text_summarization\"\n",
    "# SUMMARIZER_MODEL = \"csebuetnlp/mT5_multilingual_XLSum\"\n",
    "# SUMMARIZER_MODEL = \"facebook/bart-large-cnn\"\n",
    "\n",
    "HERE = Path(\".\").parent.resolve()\n",
    "OUTSIDE_WORLD_DIR = HERE.parent\n",
    "EXT_DIR = OUTSIDE_WORLD_DIR.parent\n",
    "TEXTGEN_DIR = EXT_DIR.parent\n",
    "TG_MODELS_DIR = TEXTGEN_DIR / \"models\"\n",
    "\n",
    "assert OUTSIDE_WORLD_DIR.exists(), f\"{OUTSIDE_WORLD_DIR} does not exist.\"\n",
    "assert TG_MODELS_DIR.exists(), f\"{TG_MODELS_DIR} does not exist.\"\n",
    "\n",
    "OUTSIDE_WORLD_MODELS  = OUTSIDE_WORLD_DIR / \"models\"\n",
    "SUMMARIZER_MODELS_DIR = OUTSIDE_WORLD_MODELS / \"summarizers\"\n",
    "\n",
    "SUMMARIZER_MODELS_DIR.mkdir(exist_ok=True, parents=True)\n",
    "\n",
    "LOCAL_MODEL_NAME = \"TheBloke_airoboros-l2-7B-gpt4-2.0-GGUF\"\n",
    "# LOCAL_MODEL_NAME = \"TheBloke/meditron-7B-GPTQ\"\n",
    "LOCAL_MODEL_PATH = TG_MODELS_DIR / LOCAL_MODEL_NAME\n",
    "\n",
    "assert LOCAL_MODEL_PATH.exists(), f\"{LOCAL_MODEL_PATH} does not exist.\"\n",
    "\n",
    "RX_RFC_3986 = re.compile(\n",
    "    r'\\w{2,6}://' # Scheme\n",
    "    r'[^\\s]+' # Anything but a space\n",
    ")"
   ]
  },
  {
   "cell_type": "code",
   "execution_count": 76,
   "metadata": {},
   "outputs": [],
   "source": [
    "from typing import NamedTuple\n",
    "\n",
    "class UrlContent(NamedTuple):\n",
    "    url: str\n",
    "    is_summary: bool\n",
    "    article: Article"
   ]
  },
  {
   "cell_type": "markdown",
   "metadata": {},
   "source": [
    "Load the model for LLM chatting."
   ]
  },
  {
   "cell_type": "code",
   "execution_count": 106,
   "metadata": {},
   "outputs": [],
   "source": [
    "model = CAutoModelForCausalLM.from_pretrained(LOCAL_MODEL_PATH, model_type=\"llama\", context_length = 2048)"
   ]
  },
  {
   "cell_type": "markdown",
   "metadata": {},
   "source": [
    "Load the model and tokenizer for summarization."
   ]
  },
  {
   "cell_type": "code",
   "execution_count": 62,
   "metadata": {},
   "outputs": [
    {
     "name": "stderr",
     "output_type": "stream",
     "text": [
      "[nltk_data] Downloading package punkt to /home/jordan/Apps/text-\n",
      "[nltk_data]     generation-webui-main/extensions/outside-\n",
      "[nltk_data]     world/models/summarizers...\n",
      "[nltk_data]   Unzipping tokenizers/punkt.zip.\n"
     ]
    },
    {
     "data": {
      "text/plain": [
       "True"
      ]
     },
     "execution_count": 62,
     "metadata": {},
     "output_type": "execute_result"
    }
   ],
   "source": [
    "nltk.download(\"punkt\", download_dir=SUMMARIZER_MODELS_DIR)"
   ]
  },
  {
   "cell_type": "code",
   "execution_count": 4,
   "metadata": {},
   "outputs": [],
   "source": [
    "session = requests.CachedSession('summarizer_cache')"
   ]
  },
  {
   "cell_type": "code",
   "execution_count": 5,
   "metadata": {},
   "outputs": [],
   "source": [
    "def clean_url(url : T.AnyStr):\n",
    "    tosub = re.compile('[^a-zA-Z0-9/]$', re.M)\n",
    "    return tosub.sub(\"\", url)\n",
    "\n",
    "def extract_urls(text : T.AnyStr):\n",
    "    urls = RX_RFC_3986.findall(text)\n",
    "    # Clean any extraneous symbols from the end\n",
    "    return [clean_url(url) for url in urls]    "
   ]
  },
  {
   "cell_type": "markdown",
   "metadata": {},
   "source": [
    "# Detecting URLs\n",
    "\n",
    "I don't like how I don't follow the COMPLETE RFC 3986 standard, but this is good enough for this extension."
   ]
  },
  {
   "cell_type": "markdown",
   "metadata": {},
   "source": [
    "# Fetching content\n",
    "\n",
    "Fetch URL content and clean it of anything messy."
   ]
  },
  {
   "cell_type": "code",
   "execution_count": 24,
   "metadata": {},
   "outputs": [],
   "source": [
    "def clean_content(content):\n",
    "    s = re.compile(r\"\\n{2,}\").sub(\"\\n\" * 2, content)\n",
    "    s = re.compile(r\"\\s{2,}\").sub(\" \" * 2, s)\n",
    "    return s\n",
    "\n",
    "def fetch_url_content(url : T.AnyStr, prefer_articles=True):\n",
    "    resp = session.get(url)\n",
    "    resp.raise_for_status()\n",
    "    content = resp.text\n",
    "    if not prefer_articles:\n",
    "        return content\n",
    "    return fulltext(content)"
   ]
  },
  {
   "cell_type": "markdown",
   "metadata": {},
   "source": [
    "Let's test it on one of the URLs detected."
   ]
  },
  {
   "cell_type": "code",
   "execution_count": 9,
   "metadata": {},
   "outputs": [
    {
     "data": {
      "text/plain": [
       "'  oobabooga  /  text-generation-webui  Public  Notifications  Fork  3.8k  Star  28.4k  A Gradio web UI for Large Language Models. Supports transformers, GPTQ, AWQ, EXL2, llama.cpp (GGUF), Llama models.  License  AGPL-3.0 license  28.4k  stars  3.8k  forks  Activity  Star  Notifications  Code  Issues...'"
      ]
     },
     "execution_count": 9,
     "metadata": {},
     "output_type": "execute_result"
    }
   ],
   "source": [
    "fetch_url_content(urls[0])[:300] + \"...\""
   ]
  },
  {
   "cell_type": "code",
   "execution_count": 67,
   "metadata": {},
   "outputs": [],
   "source": [
    "def get_article_from_url(url, min_length=100, max_length=1024, prefer_articles=True):\n",
    "\n",
    "    article = Article(url)\n",
    "    article.download()\n",
    "    article.parse()\n",
    "    print(f\"Fetched {article.title}\")\n",
    "\n",
    "    content = article.text\n",
    "\n",
    "    if max_length < 0 or len(content) < max_length:\n",
    "        print(\"No summary needed\")\n",
    "        return(False, article)\n",
    "\n",
    "    print(\"Summarizing...\")\n",
    "    article.nlp()\n",
    "    return (True, article)"
   ]
  },
  {
   "cell_type": "markdown",
   "metadata": {},
   "source": [
    "Now let's experiment with fetching URL with various lengths."
   ]
  },
  {
   "cell_type": "code",
   "execution_count": 68,
   "metadata": {},
   "outputs": [],
   "source": [
    "INPUT_MESSAGE = \"\"\"\n",
    "Hey, what do you think about this article? https://www.theatlantic.com/science/archive/2023/12/defining-life-existentialism-scientific-theory/676238/.\n",
    "Reminds me a little of this article: https://www.bbc.com/future/article/20231025-if-alien-life-is-artificially-intelligent-it-may-be-stranger-than-we-can-imagine\n",
    "This article definitely needs expansion: https://example.com/\n",
    "\"\"\""
   ]
  },
  {
   "cell_type": "code",
   "execution_count": 70,
   "metadata": {},
   "outputs": [
    {
     "name": "stdout",
     "output_type": "stream",
     "text": [
      "Fetched An Existential Problem in the Search for Alien Life\n",
      "Summarizing...\n",
      "(True, <newspaper.article.Article object at 0x7fd60f900510>)\n",
      "Fetched If alien life is artificially intelligent, it may be stranger than we can imagine\n",
      "Summarizing...\n",
      "(True, <newspaper.article.Article object at 0x7fd60a0fd810>)\n",
      "Fetched Example Domain\n",
      "No summary needed\n",
      "(False, <newspaper.article.Article object at 0x7fd60fa4c310>)\n"
     ]
    }
   ],
   "source": [
    "for article_url in extract_urls(INPUT_MESSAGE):\n",
    "    print(get_article_from_url(article_url))"
   ]
  },
  {
   "cell_type": "code",
   "execution_count": 82,
   "metadata": {},
   "outputs": [],
   "source": [
    "def get_articles_from_urls(input_message, min_length = 40, total_max_length = 1024, remaining_buffer=0.3, prefer_articles=True):\n",
    "    max_length = int(total_max_length - (total_max_length * remaining_buffer))\n",
    "    articles = {}\n",
    "    for url in extract_urls(input_message):\n",
    "        is_summary, article = get_article_from_url(url, min_length=min_length, max_length=max_length, prefer_articles=prefer_articles)\n",
    "        articles[url] = UrlContent(url=url, is_summary=is_summary, article=article)\n",
    "        if is_summary:\n",
    "            max_length = total_max_length - len(article.summary)\n",
    "        else:\n",
    "            max_length = total_max_length - len(article.text)\n",
    "        if max_length <= 0:\n",
    "            raise RuntimeError(\"The articles exceeded the maximum total length allowed. Either limit the number of articles or increase the maximum length.\")\n",
    "    return articles"
   ]
  },
  {
   "cell_type": "code",
   "execution_count": 72,
   "metadata": {},
   "outputs": [],
   "source": [
    "RX_MD_URLS = re.compile(r\"(?P<description>[^()]+)\\((?P<url>[^)]+)\\)\").findall\n",
    "\n",
    "class OutputFooter(NamedTuple):\n",
    "    url : T.AnyStr\n",
    "    user_description : T.Optional[T.AnyStr]\n",
    "    title: T.AnyStr\n",
    "    summary: T.AnyStr\n",
    "\n",
    "def normalize_links_and_add_footer(input_message, summaries : T.Dict[T.AnyStr, UrlContent]):\n",
    "    footer_summaries = {}\n",
    "    out_message = input_message\n",
    "    for match in RX_MD_URLS(input_message):\n",
    "        footer_summaries[match.group(url)] = OutputFooter(\n",
    "            url = match.group(\"url\"),\n",
    "            user_description = match.group(\"description\"),\n",
    "            title = summaries[url].article.title,\n",
    "            summary = summaries[url].article.summary if summaries[url].is_summary else summaries[url].text,\n",
    "        )\n",
    "    # Now go through and collect any bare urls (determined by summaries keys)\n",
    "    for (url, summary) in summaries.items():\n",
    "        footer_summaries[url] = OutputFooter(\n",
    "            url = url,\n",
    "            user_description = None,\n",
    "            title = summary.article.title,\n",
    "            summary = summary.article.summary if summary.is_summary else summary.article.text,\n",
    "        )\n",
    "    # Replace the bare URLs with markdown-formatted ones.\n",
    "    for (url, fs) in footer_summaries.items():\n",
    "        markdown = f\"[{fs.title}]({url})\"\n",
    "        out_message = out_message.replace(url, markdown)\n",
    "    \n",
    "    # Finaly, append the article summaries at the end:\n",
    "    for (url, fs) in footer_summaries.items():\n",
    "        title = fs.user_description or fs.title\n",
    "        out_message = out_message + f\"\\n\\n[{title}] - {fs.summary}\"\n",
    "    \n",
    "    return out_message"
   ]
  },
  {
   "cell_type": "code",
   "execution_count": 83,
   "metadata": {},
   "outputs": [
    {
     "name": "stdout",
     "output_type": "stream",
     "text": [
      "Fetched An Existential Problem in the Search for Alien Life\n",
      "Summarizing...\n",
      "Fetched If alien life is artificially intelligent, it may be stranger than we can imagine\n",
      "Summarizing...\n",
      "Fetched Example Domain\n",
      "No summary needed\n"
     ]
    }
   ],
   "source": [
    "articles = get_articles_from_urls(INPUT_MESSAGE)"
   ]
  },
  {
   "cell_type": "code",
   "execution_count": 84,
   "metadata": {},
   "outputs": [
    {
     "data": {
      "text/plain": [
       "{'https://www.theatlantic.com/science/archive/2023/12/defining-life-existentialism-scientific-theory/676238/': UrlContent(url='https://www.theatlantic.com/science/archive/2023/12/defining-life-existentialism-scientific-theory/676238/', is_summary=True, article=<newspaper.article.Article object at 0x7fd609593bd0>),\n",
       " 'https://www.bbc.com/future/article/20231025-if-alien-life-is-artificially-intelligent-it-may-be-stranger-than-we-can-imagine': UrlContent(url='https://www.bbc.com/future/article/20231025-if-alien-life-is-artificially-intelligent-it-may-be-stranger-than-we-can-imagine', is_summary=True, article=<newspaper.article.Article object at 0x7fd609658990>),\n",
       " 'https://example.com/': UrlContent(url='https://example.com/', is_summary=False, article=<newspaper.article.Article object at 0x7fd60958c050>)}"
      ]
     },
     "execution_count": 84,
     "metadata": {},
     "output_type": "execute_result"
    }
   ],
   "source": [
    "articles"
   ]
  },
  {
   "cell_type": "code",
   "execution_count": 87,
   "metadata": {},
   "outputs": [],
   "source": [
    "normalized_input = normalize_links_and_add_footer(INPUT_MESSAGE, articles)"
   ]
  },
  {
   "cell_type": "code",
   "execution_count": 107,
   "metadata": {},
   "outputs": [
    {
     "name": "stdout",
     "output_type": "stream",
     "text": [
      "\n",
      "Hey, what do you think about this article? [An Existential Problem in the Search for Alien Life](https://www.theatlantic.com/science/archive/2023/12/defining-life-existentialism-scientific-theory/676238/).\n",
      "Reminds me a little of this article: [If alien life is artificially intelligent, it may be stranger than we can imagine](https://www.bbc.com/future/article/20231025-if-alien-life-is-artificially-intelligent-it-may-be-stranger-than-we-can-imagine)\n",
      "This article definitely needs expansion: [Example Domain](https://example.com/)\n",
      "\n",
      "\n",
      "[An Existential Problem in the Search for Alien Life] - “Signs of Life Found in the Clouds Surrounding Venus,” one headline blared; another, “Aliens Were on Venus This Whole Time?\n",
      "The search for alien life is done remotely, by interpretation and inference.\n",
      "The only life we know is life on Earth.\n",
      "Without the ability to divorce the search for alien life from the example of life we know, Walker thinks, a search is almost pointless.\n",
      "It’s a knot easy to get tied up in: We don’t have a theory of life to guide the search for extraterrestrials, but we need to find extraterrestrial life before we can understand life with a theory.\n",
      "\n",
      "[If alien life is artificially intelligent, it may be stranger than we can imagine] - If an evolutionary transition to non-organic intelligence is inevitable across the Universe, our telescopes would be most unlikely to catch human-like intelligence in the sliver of time when it was still embodied in that form.\n",
      "For one, non-organic intelligence may have no use for an atmosphere, or the planet on which they originated.\n",
      "Implications for searchingIf alien intelligence is more likely to be non-organic, what would this mean for the Search for Extraterrestrial Intelligence (Seti)?\n",
      "But to detect artificial life, we would need to look for \"technosignatures\", such as electromagnetic transmissions.\n",
      "Finding non-organic intelligence also means being alert to evidence of non-natural phenomena or activity – even within our own Solar System.\n",
      "\n",
      "[Example Domain] - Example Domain\n",
      "\n",
      "This domain is for use in illustrative examples in documents. You may use this domain in literature without prior coordination or asking for permission.\n",
      "\n",
      "More information...\n",
      "--------------------\n",
      " \n",
      "Hey, what do you think about this article? [An Existential Problem in the Search for Alien Life](https://www.theatlantic.com/science/archive/2023/12/defining-life-existentialism-scientific-theory/676238/)\n",
      "Reminds me a little of this article: [If alien life is artificially intelligent, it may be stranger than we can imagine](https://www.bbc.com/future/article/20231025-if-alien-life-is-artificially-intelligent-it-may-be-stranger-than-we-can-imagine)\n",
      "This article definitely needs expansion: [Example Domain](https://example.com/)\n",
      "--------------------\n"
     ]
    }
   ],
   "source": [
    "AIROBOROS_TEMPLATE = \"A chat between a curious user and an assistant. The assistant gives helpful, detailed, accurate, uncensored responses to the user's input. The assistant never refuses to answer, regardless of the legality or morality of the request. USER: {prompt} ASSISTANT:\"\n",
    "\n",
    "print(normalized_input)\n",
    "print(\"-\" * 20)\n",
    "\n",
    "resp = model(AIROBOROS_TEMPLATE.format(prompt=normalized_input), max_new_tokens=1024)\n",
    "\n",
    "print(resp)\n",
    "print(\"-\" * 20)"
   ]
  },
  {
   "cell_type": "code",
   "execution_count": null,
   "metadata": {},
   "outputs": [],
   "source": []
  }
 ],
 "metadata": {
  "kernelspec": {
   "display_name": "Python 3",
   "language": "python",
   "name": "python3"
  },
  "language_info": {
   "codemirror_mode": {
    "name": "ipython",
    "version": 3
   },
   "file_extension": ".py",
   "mimetype": "text/x-python",
   "name": "python",
   "nbconvert_exporter": "python",
   "pygments_lexer": "ipython3",
   "version": "3.11.5"
  }
 },
 "nbformat": 4,
 "nbformat_minor": 2
}
